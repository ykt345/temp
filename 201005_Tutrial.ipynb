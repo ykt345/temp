{
  "nbformat": 4,
  "nbformat_minor": 0,
  "metadata": {
    "colab": {
      "name": "201005_Tutrial.ipynb",
      "provenance": [],
      "include_colab_link": true
    },
    "kernelspec": {
      "name": "python3",
      "display_name": "Python 3"
    }
  },
  "cells": [
    {
      "cell_type": "markdown",
      "metadata": {
        "id": "view-in-github",
        "colab_type": "text"
      },
      "source": [
        "<a href=\"https://colab.research.google.com/github/ykt345/temp/blob/master/201005_Tutrial.ipynb\" target=\"_parent\"><img src=\"https://colab.research.google.com/assets/colab-badge.svg\" alt=\"Open In Colab\"/></a>"
      ]
    },
    {
      "cell_type": "markdown",
      "metadata": {
        "id": "TmFgLcykUg2S"
      },
      "source": [
        "このTutrialは[こちら](https://colab.research.google.com/drive/1gCgtlnMPVWY0l1ra8ssS0EzJiWaVR4Pk#scrollTo=uF1P_cRoWpvM)を弊社で利用する用に変更したり、説明を加えたりしたものです。"
      ]
    },
    {
      "cell_type": "markdown",
      "metadata": {
        "id": "KCnOCudURExs"
      },
      "source": [
        "# 下準備\n",
        "*   PyTorch(機械学習ライブラリ)をインストールします。<br>\n",
        "※現在の最新のPyTorch version = 1.6.xですが、ライブラリ間を考慮して1.2.0を利用します。\n",
        "*   必要に応じてランタイムのタイプを変更します。"
      ]
    },
    {
      "cell_type": "code",
      "metadata": {
        "id": "CVq1IeH6QQw2",
        "outputId": "e185f080-1913-40de-f884-1f44c77fa8e6",
        "colab": {
          "base_uri": "https://localhost:8080/",
          "height": 121
        }
      },
      "source": [
        "!pip3 install torch==1.2.0+cu92 torchvision==0.4.0+cu92 -f https://download.pytorch.org/whl/torch_stable.html"
      ],
      "execution_count": null,
      "outputs": [
        {
          "output_type": "stream",
          "text": [
            "Looking in links: https://download.pytorch.org/whl/torch_stable.html\n",
            "Requirement already satisfied: torch==1.2.0+cu92 in /usr/local/lib/python3.6/dist-packages (1.2.0+cu92)\n",
            "Requirement already satisfied: torchvision==0.4.0+cu92 in /usr/local/lib/python3.6/dist-packages (0.4.0+cu92)\n",
            "Requirement already satisfied: numpy in /usr/local/lib/python3.6/dist-packages (from torch==1.2.0+cu92) (1.18.5)\n",
            "Requirement already satisfied: pillow>=4.1.1 in /usr/local/lib/python3.6/dist-packages (from torchvision==0.4.0+cu92) (6.2.1)\n",
            "Requirement already satisfied: six in /usr/local/lib/python3.6/dist-packages (from torchvision==0.4.0+cu92) (1.15.0)\n"
          ],
          "name": "stdout"
        }
      ]
    },
    {
      "cell_type": "code",
      "metadata": {
        "id": "Knv7NVY7QgSx"
      },
      "source": [
        "import torch\n",
        "import torch.nn as nn\n",
        "import torch.nn.functional as F\n",
        "import torchvision\n",
        "import torchvision.transforms as transforms"
      ],
      "execution_count": null,
      "outputs": []
    },
    {
      "cell_type": "code",
      "metadata": {
        "id": "sk6yh0dYQiJN",
        "outputId": "3113f90b-df12-4d17-926b-483c9867f185",
        "colab": {
          "base_uri": "https://localhost:8080/",
          "height": 34
        }
      },
      "source": [
        "print(torch.__version__)"
      ],
      "execution_count": null,
      "outputs": [
        {
          "output_type": "stream",
          "text": [
            "1.2.0+cu92\n"
          ],
          "name": "stdout"
        }
      ]
    },
    {
      "cell_type": "markdown",
      "metadata": {
        "id": "GqhtUvSlRQKq"
      },
      "source": [
        "# 学習・テストデータをダウンロード\n",
        "今回は手書き文字のデータセットである[MNIST](http://yann.lecun.com/exdb/mnist/)を利用します。データはダウンロード、インポートするだけでなく整形も行います。</br>\n",
        "\n",
        "*   データをテンソルに変換するために `transforms` モジュールを使います。\n",
        "*   便利なデータローダやイテレータと呼ばれるものを構築するために `DataLoader` を利用します。</br>\n",
        "*   データローダの中で `batch` パラメータを設定することでデータのバッチを作成します。このチュートリアルでは `32` のバッチを使用していますが、お好みであれば `64` に変更しても構いません。いろいろなバッチを試してみることをお勧めします。\n",
        "*   データローダはデータセットからデータをバッチサイズに固めて返すモジュールです。\n",
        "*   イテレータは反復可能オブジェクトです。詳しくは[こちら](https://www.atmarkit.co.jp/ait/articles/1906/11/news007_2.html#whatsiterator)を読んでください。\n",
        "\n"
      ]
    },
    {
      "cell_type": "code",
      "metadata": {
        "id": "Gh7qbWGYQiwH",
        "outputId": "b2f9376e-71ab-44a0-e197-3b03c07fb9c7",
        "colab": {
          "base_uri": "https://localhost:8080/",
          "height": 261
        }
      },
      "source": [
        "BATCH_SIZE = 32\n",
        "\n",
        "## transformations\n",
        "transform = transforms.Compose(\n",
        "    [transforms.ToTensor()])\n",
        "\n",
        "## download and load training dataset\n",
        "trainset = torchvision.datasets.MNIST(root='./data', train=True,\n",
        "                                        download=True, transform=transform)\n",
        "trainloader = torch.utils.data.DataLoader(trainset, batch_size=BATCH_SIZE,\n",
        "                                          shuffle=True, num_workers=2)\n",
        "\n",
        "## download and load testing dataset\n",
        "testset = torchvision.datasets.MNIST(root='./data', train=False,\n",
        "                                       download=True, transform=transform)\n",
        "testloader = torch.utils.data.DataLoader(testset, batch_size=BATCH_SIZE,\n",
        "                                         shuffle=False, num_workers=2)"
      ],
      "execution_count": null,
      "outputs": [
        {
          "output_type": "stream",
          "text": [
            "  0%|          | 16384/9912422 [00:00<01:18, 126207.96it/s]"
          ],
          "name": "stderr"
        },
        {
          "output_type": "stream",
          "text": [
            "Downloading http://yann.lecun.com/exdb/mnist/train-images-idx3-ubyte.gz to ./data/MNIST/raw/train-images-idx3-ubyte.gz\n"
          ],
          "name": "stdout"
        },
        {
          "output_type": "stream",
          "text": [
            "9920512it [00:00, 25806286.32it/s]                           \n"
          ],
          "name": "stderr"
        },
        {
          "output_type": "stream",
          "text": [
            "Extracting ./data/MNIST/raw/train-images-idx3-ubyte.gz to ./data/MNIST/raw\n"
          ],
          "name": "stdout"
        },
        {
          "output_type": "stream",
          "text": [
            "32768it [00:00, 374458.37it/s]\n",
            "0it [00:00, ?it/s]"
          ],
          "name": "stderr"
        },
        {
          "output_type": "stream",
          "text": [
            "Downloading http://yann.lecun.com/exdb/mnist/train-labels-idx1-ubyte.gz to ./data/MNIST/raw/train-labels-idx1-ubyte.gz\n",
            "Extracting ./data/MNIST/raw/train-labels-idx1-ubyte.gz to ./data/MNIST/raw\n",
            "Downloading http://yann.lecun.com/exdb/mnist/t10k-images-idx3-ubyte.gz to ./data/MNIST/raw/t10k-images-idx3-ubyte.gz\n"
          ],
          "name": "stdout"
        },
        {
          "output_type": "stream",
          "text": [
            "1654784it [00:00, 8747894.72it/s]                          \n",
            "  0%|          | 0/4542 [00:00<?, ?it/s]"
          ],
          "name": "stderr"
        },
        {
          "output_type": "stream",
          "text": [
            "Extracting ./data/MNIST/raw/t10k-images-idx3-ubyte.gz to ./data/MNIST/raw\n",
            "Downloading http://yann.lecun.com/exdb/mnist/t10k-labels-idx1-ubyte.gz to ./data/MNIST/raw/t10k-labels-idx1-ubyte.gz\n"
          ],
          "name": "stdout"
        },
        {
          "output_type": "stream",
          "text": [
            "\r8192it [00:00, 58105.66it/s]            \n"
          ],
          "name": "stderr"
        },
        {
          "output_type": "stream",
          "text": [
            "Extracting ./data/MNIST/raw/t10k-labels-idx1-ubyte.gz to ./data/MNIST/raw\n",
            "Processing...\n",
            "Done!\n"
          ],
          "name": "stdout"
        }
      ]
    },
    {
      "cell_type": "markdown",
      "metadata": {
        "id": "rFpkKXizRXhl"
      },
      "source": [
        "# データの中身を確認する\n"
      ]
    },
    {
      "cell_type": "code",
      "metadata": {
        "id": "AxS-TaLOQoc_",
        "outputId": "9a7763d1-cdab-4d90-d2b0-7b0106808af7",
        "colab": {
          "base_uri": "https://localhost:8080/",
          "height": 220
        }
      },
      "source": [
        "import matplotlib.pyplot as plt\n",
        "import numpy as np\n",
        "\n",
        "## functions to show an image\n",
        "def imshow(img):\n",
        "    #img = img / 2 + 0.5     # unnormalize\n",
        "    npimg = img.numpy()\n",
        "    plt.imshow(np.transpose(npimg, (1, 2, 0)))\n",
        "\n",
        "## get some random training images\n",
        "dataiter = iter(trainloader)\n",
        "images, labels = dataiter.next()\n",
        "\n",
        "## show images\n",
        "imshow(torchvision.utils.make_grid(images))"
      ],
      "execution_count": null,
      "outputs": [
        {
          "output_type": "display_data",
          "data": {
            "image/png": "[encoded data removed]",
            "text/plain": [
              "<Figure size 432x288 with 1 Axes>"
            ]
          },
          "metadata": {
            "tags": [],
            "needs_background": "light"
          }
        }
      ]
    },
    {
      "cell_type": "markdown",
      "metadata": {
        "id": "_rLlRxZnbOcN"
      },
      "source": [
        "バッチの次元を確認します。\n",
        "\n",
        "*     `shape`はテンソルを見える化してくれます。 `x.size()` でも同じ結果を出せます。\n",
        "\n",
        "\n",
        "\n"
      ]
    },
    {
      "cell_type": "code",
      "metadata": {
        "id": "fmAdiIwCQrAZ",
        "outputId": "2258bb84-b019-4d98-c934-de98ecc61ac6",
        "colab": {
          "base_uri": "https://localhost:8080/",
          "height": 52
        }
      },
      "source": [
        "for images, labels in trainloader:\n",
        "    print(\"Image batch dimensions:\", images.shape)\n",
        "    print(\"Image label dimensions:\", labels.shape)\n",
        "    break"
      ],
      "execution_count": null,
      "outputs": [
        {
          "output_type": "stream",
          "text": [
            "Image batch dimensions: torch.Size([32, 1, 28, 28])\n",
            "Image label dimensions: torch.Size([32])\n"
          ],
          "name": "stdout"
        }
      ]
    },
    {
      "cell_type": "markdown",
      "metadata": {
        "id": "Y-Go9qNWW1c4"
      },
      "source": [
        "# モデルを作成\n",
        "\n",
        "\n",
        "*   モデルは `__init__()` の部分で構成されており、ニューラルネットワークのレイヤーとコンポーネントを含んでいます。このモデルでは、`nn.Conv2d(....)`という畳み込み層があります。グレースケールの画像データセットを扱っているので、入力するチャンネルは1つだけ必要となり` in_channels=1 ` となります。この層をきれいに表現したいので，`out_channels=32` を利用します。カーネルサイズは3で、その他のパラメータはライブラリのデフォルト値を使用します。\n",
        "*   `d1` には、どこからともなく出てきたような次元があることに注目してください。128は出力したいサイズを表し、(`26*26*32`)は入力データの次元を表します。これらの計算方法については [PyTorch documentation](https://pytorch.org/docs/stable/nn.html?highlight=linear#conv2d) を参照してください。要するに、畳み込み層は入力データを線形層で考慮しなければならない特定の次元に変換します。2回目の線形変換 (`d2`) も同様で、前の線形層の出力の次元を `in_features=128` とし、`10` は出力のサイズで、クラスの数にも対応しています。\n",
        "*   これらの各層の後には、`ReLU`のような活性化関数も適用します。\n",
        "*   予測のために，最後の変換に `softmax` のレイヤを適用し，その出力を返します。\n",
        "\n"
      ]
    },
    {
      "cell_type": "code",
      "metadata": {
        "id": "gzrBUXnTQtU_"
      },
      "source": [
        "class MyModel(nn.Module):\n",
        "    def __init__(self):\n",
        "        super(MyModel, self).__init__()\n",
        "\n",
        "        # 28x28x1 => 26x26x32\n",
        "        self.conv1 = nn.Conv2d(in_channels=1, out_channels=32, kernel_size=3)\n",
        "        self.d1 = nn.Linear(26 * 26 * 32, 128)\n",
        "        self.d2 = nn.Linear(128, 10)\n",
        "\n",
        "    def forward(self, x):\n",
        "        # 32x1x28x28 => 32x32x26x26\n",
        "        x = self.conv1(x)\n",
        "        x = F.relu(x)\n",
        "\n",
        "        # flatten => 32 x (32*26*26)\n",
        "        x = x.flatten(start_dim = 1)\n",
        "\n",
        "        # 32 x (32*26*26) => 32x128\n",
        "        x = self.d1(x)\n",
        "        x = F.relu(x)\n",
        "\n",
        "        # logits => 32x10\n",
        "        logits = self.d2(x)\n",
        "        out = F.softmax(logits, dim=1)\n",
        "        return out"
      ],
      "execution_count": null,
      "outputs": []
    },
    {
      "cell_type": "markdown",
      "metadata": {
        "id": "nO2Fiqu4hbOZ"
      },
      "source": [
        "次元が望むものになっているかどうかを確認します。"
      ]
    },
    {
      "cell_type": "code",
      "metadata": {
        "id": "98EC4kenQvIM",
        "outputId": "45dfd716-1c54-422f-d695-2116f2944608",
        "colab": {
          "base_uri": "https://localhost:8080/",
          "height": 52
        }
      },
      "source": [
        "## test the model with 1 batch\n",
        "model = MyModel()\n",
        "for images, labels in trainloader:\n",
        "    print(\"batch size:\", images.shape)\n",
        "    out = model(images)\n",
        "    print(out.shape)\n",
        "    break"
      ],
      "execution_count": null,
      "outputs": [
        {
          "output_type": "stream",
          "text": [
            "batch size: torch.Size([32, 1, 28, 28])\n",
            "torch.Size([32, 10])\n"
          ],
          "name": "stdout"
        }
      ]
    },
    {
      "cell_type": "markdown",
      "metadata": {
        "id": "9j6Zr_26W64z"
      },
      "source": [
        "# 学習\n",
        "これでモデルを訓練する準備ができましたが、その前にloss、optimizer、モデルの精度を計算する関数を設定します。\n",
        "\n",
        "\n",
        "*   lossとは\n",
        "*   optimaizerとは\n",
        "\n"
      ]
    },
    {
      "cell_type": "code",
      "metadata": {
        "id": "OnK7zaNSQxk4"
      },
      "source": [
        "learning_rate = 0.001\n",
        "num_epochs = 5\n",
        "\n",
        "device = torch.device(\"cuda:0\" if torch.cuda.is_available() else \"cpu\")\n",
        "model = MyModel()\n",
        "model = model.to(device)\n",
        "criterion = nn.CrossEntropyLoss()\n",
        "optimizer = torch.optim.Adam(model.parameters(), lr=learning_rate)"
      ],
      "execution_count": null,
      "outputs": []
    },
    {
      "cell_type": "code",
      "metadata": {
        "id": "U_zUIlC9Qzj-"
      },
      "source": [
        "## compute accuracy\n",
        "def get_accuracy(logit, target, batch_size):\n",
        "    ''' Obtain accuracy for training round '''\n",
        "    corrects = (torch.max(logit, 1)[1].view(target.size()).data == target.data).sum()\n",
        "    accuracy = 100.0 * corrects/batch_size\n",
        "    print = accuracy\n",
        "    return accuracy.item()"
      ],
      "execution_count": null,
      "outputs": []
    },
    {
      "cell_type": "markdown",
      "metadata": {
        "id": "uhsh-8KeXxky"
      },
      "source": [
        "学習します。"
      ]
    },
    {
      "cell_type": "code",
      "metadata": {
        "id": "BcpF__AUQ0L5",
        "outputId": "b25f724d-e1b0-41d7-8650-0dcbc65a7748",
        "colab": {
          "base_uri": "https://localhost:8080/",
          "height": 104
        }
      },
      "source": [
        "for epoch in range(num_epochs):\n",
        "    train_running_loss = 0.0\n",
        "    train_acc = 0.0\n",
        "\n",
        "    model = model.train()\n",
        "\n",
        "    ## training step\n",
        "    for i, (images, labels) in enumerate(trainloader):\n",
        "        \n",
        "        images = images.to(device)\n",
        "        labels = labels.to(device)\n",
        "\n",
        "        ## forward + backprop + loss\n",
        "        logits = model(images)\n",
        "        loss = criterion(logits, labels)\n",
        "        optimizer.zero_grad()\n",
        "        loss.backward()\n",
        "\n",
        "        ## update model params\n",
        "        optimizer.step()\n",
        "\n",
        "        train_running_loss += loss.detach().item()\n",
        "        train_acc += get_accuracy(logits, labels, BATCH_SIZE)\n",
        "    \n",
        "    model.eval()\n",
        "    print('Epoch: %d | Loss: %.4f | Train Accuracy: %.2f' \\\n",
        "          %(epoch, train_running_loss / i, train_acc/i))   "
      ],
      "execution_count": null,
      "outputs": [
        {
          "output_type": "stream",
          "text": [
            "Epoch: 0 | Loss: 1.5775 | Train Accuracy: 88.24\n",
            "Epoch: 1 | Loss: 1.4936 | Train Accuracy: 96.54\n",
            "Epoch: 2 | Loss: 1.4834 | Train Accuracy: 97.61\n",
            "Epoch: 3 | Loss: 1.4780 | Train Accuracy: 98.16\n",
            "Epoch: 4 | Loss: 1.4752 | Train Accuracy: 98.49\n"
          ],
          "name": "stdout"
        }
      ]
    },
    {
      "cell_type": "code",
      "metadata": {
        "id": "gREBESrS--UC"
      },
      "source": [
        "plt.plot(np.arange(len(losses_train)), losses_train, label= \"train\")\n",
        "plt.plot(np.arange(len(losses_val)), losses_val, label= \"val\")\n",
        "plt.xlabel(\"epoch\")\n",
        "plt.legend()\n",
        "plt.show()"
      ],
      "execution_count": null,
      "outputs": []
    },
    {
      "cell_type": "markdown",
      "metadata": {
        "id": "r_sarSDpillQ"
      },
      "source": [
        "テストします。"
      ]
    },
    {
      "cell_type": "code",
      "metadata": {
        "id": "679-iZSVQ7q-",
        "outputId": "2db300e1-0491-4f3a-b511-5b432f0e6811",
        "colab": {
          "base_uri": "https://localhost:8080/",
          "height": 34
        }
      },
      "source": [
        "test_acc = 0.0\n",
        "for i, (images, labels) in enumerate(testloader, 0):\n",
        "    images = images.to(device)\n",
        "    labels = labels.to(device)\n",
        "    outputs = model(images)\n",
        "    test_acc += get_accuracy(outputs, labels, BATCH_SIZE)\n",
        "        \n",
        "print('Test Accuracy: %.2f'%( test_acc/i))"
      ],
      "execution_count": null,
      "outputs": [
        {
          "output_type": "stream",
          "text": [
            "Test Accuracy: 97.71\n"
          ],
          "name": "stdout"
        }
      ]
    }
  ]
}